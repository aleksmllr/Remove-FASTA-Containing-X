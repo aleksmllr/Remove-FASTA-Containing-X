{
 "cells": [
  {
   "cell_type": "markdown",
   "metadata": {},
   "source": [
    "# Prototyping Sandbox to Remove Plasmid Sequences from a Folder of FASTA Files Containg WGS and Plasmid Sequences\n",
    "\n",
    "- Remove sequences based on the word 'plasmid' being in the description (first line)"
   ]
  },
  {
   "cell_type": "code",
   "execution_count": 1,
   "metadata": {},
   "outputs": [],
   "source": [
    "import os"
   ]
  },
  {
   "cell_type": "code",
   "execution_count": 4,
   "metadata": {},
   "outputs": [
    {
     "name": "stdout",
     "output_type": "stream",
     "text": [
      ">KU1797941.fna               disMat.csv\r\n",
      "Genotyping Calls.zip         \u001b[31mdistMat_Northern.csv\u001b[m\u001b[m*\r\n",
      "Get-Cluster-Distances.ipynb  distMat_ipoNUCLEAR_only.csv\r\n",
      "\u001b[34mProteobacteria(Order)\u001b[m\u001b[m/       distMat_ipoNUCLEAR_only.xls\r\n",
      "\u001b[34mProteobacteria(Phylum)\u001b[m\u001b[m/      getLen.py\r\n",
      "RDR.csv                      intra_cluster_distances.py\r\n",
      "Remove-Plasmids.ipynb        segment_multifasta.py\r\n",
      "\u001b[34mallSeqs\u001b[m\u001b[m/                     sequence.fasta\r\n",
      "clusterDistances.csv\r\n"
     ]
    }
   ],
   "source": [
    "ls"
   ]
  },
  {
   "cell_type": "code",
   "execution_count": 8,
   "metadata": {},
   "outputs": [],
   "source": [
    "path = 'Proteobacteria(Order)'"
   ]
  },
  {
   "cell_type": "code",
   "execution_count": 10,
   "metadata": {},
   "outputs": [
    {
     "name": "stdout",
     "output_type": "stream",
     "text": [
      "/Users/BigAL/Documents/Thesis/dataForThesis/scripts\n"
     ]
    }
   ],
   "source": [
    "cd .."
   ]
  },
  {
   "cell_type": "code",
   "execution_count": 4,
   "metadata": {},
   "outputs": [],
   "source": [
    "os.chdir(path)"
   ]
  },
  {
   "cell_type": "code",
   "execution_count": 5,
   "metadata": {},
   "outputs": [],
   "source": [
    "files = os.listdir()\n"
   ]
  },
  {
   "cell_type": "code",
   "execution_count": 6,
   "metadata": {},
   "outputs": [
    {
     "name": "stdout",
     "output_type": "stream",
     "text": [
      "17\n"
     ]
    }
   ],
   "source": [
    "print(len(os.listdir()))"
   ]
  },
  {
   "cell_type": "code",
   "execution_count": 7,
   "metadata": {},
   "outputs": [
    {
     "name": "stdout",
     "output_type": "stream",
     "text": [
      "17\n",
      "13\n"
     ]
    }
   ],
   "source": [
    "# for every file in directory\n",
    "print(len(files))\n",
    "for file in files:\n",
    "    # read the first line\n",
    "    firstLine = open(file, 'rb').readline()\n",
    "    \n",
    "    firstLine = str(firstLine)\n",
    "    # if the first line contains 'plasmid' remove the file from the directory\n",
    "    \n",
    "    if 'plasmid' in firstLine:\n",
    "        os.remove(file)\n",
    "print(len(os.listdir()))      \n",
    "    \n",
    "    \n",
    "    "
   ]
  },
  {
   "cell_type": "code",
   "execution_count": 11,
   "metadata": {},
   "outputs": [],
   "source": [
    "import os\n",
    "\n",
    "def removeFastaContaining(path, contains):\n",
    "    \"\"\"\n",
    "    This function will take a path to a folder containg FASTA files and will remove all FASTA files from that \n",
    "    directory containg a given string i.e 'plasmid' in the description of the sequence (first line of FASTA)\n",
    "    \n",
    "    :param path: Path to folder of FASTA Files (str)\n",
    "    :param contains: Word that identifies FASTA files you want to remove (str)\n",
    "    \"\"\"\n",
    "    \n",
    "    os.chdir(path)\n",
    "    files = os.listdir()\n",
    "    originalFileCount = len(files)\n",
    "    countRemoved = 0\n",
    "    for file in files:\n",
    "        # read the first line\n",
    "        firstLine = open(file, 'rb').readline()\n",
    "    \n",
    "        firstLine = str(firstLine)\n",
    "        # if the first line contains 'plasmid' remove the file from the directory\n",
    "        if 'plasmid' in firstLine:\n",
    "            os.remove(file)\n",
    "            countRemoved += 1\n",
    "    newFileCount = len(os.listdir())\n",
    "    \n",
    "    print('OG Number of Files: %s' % originalFileCount)\n",
    "    print('New Number of Files: %s' % newFileCount)\n",
    "    print('Number of Files Removed: %s' % countRemoved)\n",
    "        \n",
    "        "
   ]
  },
  {
   "cell_type": "code",
   "execution_count": 12,
   "metadata": {},
   "outputs": [
    {
     "data": {
      "text/plain": [
       "'/Users/BigAL/Documents/Thesis/dataForThesis/scripts'"
      ]
     },
     "execution_count": 12,
     "metadata": {},
     "output_type": "execute_result"
    }
   ],
   "source": [
    "pwd"
   ]
  },
  {
   "cell_type": "code",
   "execution_count": 13,
   "metadata": {},
   "outputs": [
    {
     "data": {
      "text/plain": [
       "'Proteobacteria(Order)'"
      ]
     },
     "execution_count": 13,
     "metadata": {},
     "output_type": "execute_result"
    }
   ],
   "source": [
    "path"
   ]
  },
  {
   "cell_type": "code",
   "execution_count": 14,
   "metadata": {},
   "outputs": [
    {
     "name": "stdout",
     "output_type": "stream",
     "text": [
      "OG Number of Files: 233\n",
      "New Number of Files: 230\n",
      "Number of Files Removed: 3\n"
     ]
    }
   ],
   "source": [
    "removeFastaContaining(path, 'plasmid')"
   ]
  },
  {
   "cell_type": "markdown",
   "metadata": {},
   "source": [
    "# Now the code lives in its own python file (RFC.py) and is run through the terminal for data cleaning"
   ]
  },
  {
   "cell_type": "code",
   "execution_count": 9,
   "metadata": {},
   "outputs": [
    {
     "name": "stdout",
     "output_type": "stream",
     "text": [
      "/Users/BigAL/Documents/Thesis/dataForThesis/scripts\n"
     ]
    }
   ],
   "source": [
    "cd .."
   ]
  },
  {
   "cell_type": "code",
   "execution_count": 16,
   "metadata": {},
   "outputs": [
    {
     "data": {
      "text/plain": [
       "'/Users/BigAL/Documents/Thesis/dataForThesis/scripts/allSeqs'"
      ]
     },
     "execution_count": 16,
     "metadata": {},
     "output_type": "execute_result"
    }
   ],
   "source": [
    "pwd"
   ]
  },
  {
   "cell_type": "code",
   "execution_count": 17,
   "metadata": {},
   "outputs": [
    {
     "name": "stdout",
     "output_type": "stream",
     "text": [
      "AADV00000000.fasta    CP024914.fasta        NZCAII00000000.fasta\r\n",
      "AAXW00000000.fasta    CP025929.fasta        NZCAIJ00000000.fasta\r\n",
      "AESD00000000.fasta    CP026286.fasta        NZCAIK00000000.fasta\r\n",
      "AGJC00000000.fasta    CP042326.fasta        NZCAIL00000000.fasta\r\n",
      "AJHB00000000.fasta    CP042327.fasta        NZCAIM00000000.fasta\r\n",
      "AJUS00000000.fasta    CP042328.fasta        NZCAIN00000000.fasta\r\n",
      "AJUT00000000.fasta    CP042329.fasta        NZCAIO00000000.fasta\r\n",
      "AJUU00000000.fasta    CP042330.fasta        NZCAIP00000000.fasta\r\n",
      "ALVO00000000.fasta    CP046058.fasta        NZCAIQ00000000.fasta\r\n",
      "ALVY00000000.fasta    CP046059.fasta        NZCAQK00000000.fasta\r\n",
      "ANKQ00000000.fasta    D10841.fasta          NZCAQL00000000.fasta\r\n",
      "AOCI00000000.fasta    D17448.fasta          NZCAQM00000000.fasta\r\n",
      "AP009552.fasta        DFVO00000000.fasta    NZCAQN00000000.fasta\r\n",
      "AP014815.fasta        JPSP00000000.fasta    NZCM001775.fasta\r\n",
      "AP014816.fasta        JXYX00000000.fasta    NZCP011304.fasta\r\n",
      "AP014817.fasta        LWHC00000000.fasta    NZCP011339.fasta\r\n",
      "AP014818.fasta        LYXM00000000.fasta    NZCP012375.fasta\r\n",
      "AP014819.fasta        MCIH00000000.fasta    NZCP020664.fasta\r\n",
      "AP014821.fasta        MDVL00000000.fasta    NZCP020771.fasta\r\n",
      "AP014823.fasta        MDZH00000000.fasta    NZCP025929.fasta\r\n",
      "AP014824.fasta        MOLN00000000.fasta    NZCP026286.fasta\r\n",
      "AP014825.fasta        MOLZ00000000.fasta    NZCP042326.fasta\r\n",
      "AP014826.fasta        MRCC00000000.fasta    NZCP042328.fasta\r\n",
      "AP014827.fasta        MTBS00000000.fasta    NZCP042329.fasta\r\n",
      "AP014828.fasta        MTBT00000000.fasta    NZCP042330.fasta\r\n",
      "AP014829.fasta        MTBU00000000.fasta    NZCP046058.fasta\r\n",
      "AP014830.fasta        MVGR00000000.fasta    NZCP046059.fasta\r\n",
      "AP014831.fasta        NAPY00000000.fasta    NZJXYX00000000.fasta\r\n",
      "AP014832.fasta        NC001597.fasta        NZLWHC00000000.fasta\r\n",
      "AP018281.fasta        NC002060.fasta        NZMDZH00000000.fasta\r\n",
      "AP018282.fasta        NC004984.fasta        NZMOLN00000000.fasta\r\n",
      "AP018283.fasta        NC010296.fasta        NZMOLZ00000000.fasta\r\n",
      "AP018284.fasta        NC010539.fasta        NZMRCC00000000.fasta\r\n",
      "AP018286.fasta        NC010541.fasta        NZMVGR00000000.fasta\r\n",
      "AP019314.fasta        NC010542.fasta        NZNAPY00000000.fasta\r\n",
      "AQPY00000000.fasta    NC010543.fasta        NZPEBC00000000.fasta\r\n",
      "ASSJ00000000.fasta    NC010546.fasta        NZPEIG00000000.fasta\r\n",
      "ASZQ00000000.fasta    NC010547.fasta        NZPTJN00000000.fasta\r\n",
      "BBPA00000000.fasta    NC011721.fasta        NZPVWL00000000.fasta\r\n",
      "BDQK00000000.fasta    NC011723.fasta        NZPVWN00000000.fasta\r\n",
      "BDQL00000000.fasta    NC011726.fasta        NZPVWP00000000.fasta\r\n",
      "BDSG00000000.fasta    NC011727.fasta        NZPXOH00000000.fasta\r\n",
      "BDSM00000000.fasta    NC011729.fasta        NZRJVW00000000.fasta\r\n",
      "BEIU00000000.fasta    NC011730.fasta        NZSRLN00000000.fasta\r\n",
      "BEIV00000000.fasta    NC011732.fasta        NZVTRR00000000.fasta\r\n",
      "BEYQ00000000.fasta    NC011734.fasta        NZWMIA00000000.fasta\r\n",
      "BFAC00000000.fasta    NC011738.fasta        PEBC00000000.fasta\r\n",
      "BHVO00000000.fasta    NC013160.fasta        PEIG00000000.fasta\r\n",
      "BHVP00000000.fasta    NC013161.fasta        PTJN00000000.fasta\r\n",
      "BHVQ00000000.fasta    NC013163.fasta        PVWL00000000.fasta\r\n",
      "BHVR00000000.fasta    NC013167.fasta        PVWN00000000.fasta\r\n",
      "BHVS00000000.fasta    NC013168.fasta        PVWP00000000.fasta\r\n",
      "BHVU00000000.fasta    NC013771.fasta        PXOH00000000.fasta\r\n",
      "BIFY00000000.fasta    NC014501.fasta        QQWA00000000.fasta\r\n",
      "BJCH00000000.fasta    NC014502.fasta        QQWB00000000.fasta\r\n",
      "BJCI00000000.fasta    NC014504.fasta        QQWC00000000.fasta\r\n",
      "BJCJ00000000.fasta    NC014533.fasta        QQWD00000000.fasta\r\n",
      "BJCK00000000.fasta    NC014534.fasta        QQWE00000000.fasta\r\n",
      "BJKP00000000.fasta    NC014535.fasta        RECR00000000.fasta\r\n",
      "CAIH00000000.fasta    NC019745.fasta        RJVW00000000.fasta\r\n",
      "CAII00000000.fasta    NC019747.fasta        RPQW00000000.fasta\r\n",
      "CAIJ00000000.fasta    NC019759.fasta        SFAA00000000.fasta\r\n",
      "CAIK00000000.fasta    NC019776.fasta        SFAB00000000.fasta\r\n",
      "CAIL00000000.fasta    NC019777.fasta        SFAC00000000.fasta\r\n",
      "CAIM00000000.fasta    NC019779.fasta        SFAD00000000.fasta\r\n",
      "CAIN00000000.fasta    NZAADV00000000.fasta  SFAE00000000.fasta\r\n",
      "CAIO00000000.fasta    NZAAXW00000000.fasta  SFAF00000000.fasta\r\n",
      "CAIP00000000.fasta    NZAESD00000000.fasta  SFAG00000000.fasta\r\n",
      "CAIQ00000000.fasta    NZAGJC00000000.fasta  SFAH00000000.fasta\r\n",
      "CAQK00000000.fasta    NZALVO00000000.fasta  SFAI00000000.fasta\r\n",
      "CAQL00000000.fasta    NZALVY00000000.fasta  SFAJ00000000.fasta\r\n",
      "CAQM00000000.fasta    NZANKQ00000000.fasta  SFAK00000000.fasta\r\n",
      "CAQN00000000.fasta    NZAOCI00000000.fasta  SFAL00000000.fasta\r\n",
      "CM001775.fasta        NZAP014815.fasta      SFAM00000000.fasta\r\n",
      "CP000806.fasta        NZAP014816.fasta      SFAN00000000.fasta\r\n",
      "CP000807.fasta        NZAP014817.fasta      SFAO00000000.fasta\r\n",
      "CP000808.fasta        NZAP014819.fasta      SFAP00000000.fasta\r\n",
      "CP000809.fasta        NZAP014820.fasta      SFAQ00000000.fasta\r\n",
      "CP000810.fasta        NZAP014821.fasta      SFAR00000000.fasta\r\n",
      "CP000811.fasta        NZAP014822.fasta      SFAS00000000.fasta\r\n",
      "CP001287.fasta        NZAP014823.fasta      SFAT00000000.fasta\r\n",
      "CP001288.fasta        NZAP014824.fasta      SFAU00000000.fasta\r\n",
      "CP001289.fasta        NZAP014826.fasta      SFAV00000000.fasta\r\n",
      "CP001290.fasta        NZAP014828.fasta      SFAW00000000.fasta\r\n",
      "CP001291.fasta        NZAP014829.fasta      SFAX00000000.fasta\r\n",
      "CP001292.fasta        NZAP014830.fasta      SFAY00000000.fasta\r\n",
      "CP001293.fasta        NZAP014831.fasta      SFAZ00000000.fasta\r\n",
      "CP001294.fasta        NZAP014832.fasta      SFBA00000000.fasta\r\n",
      "CP001295.fasta        NZAP018281.fasta      SFBB00000000.fasta\r\n",
      "CP001296.fasta        NZAP018283.fasta      SFBC00000000.fasta\r\n",
      "CP001297.fasta        NZAP018284.fasta      SFBD00000000.fasta\r\n",
      "CP001701.fasta        NZAP018285.fasta      SFBE00000000.fasta\r\n",
      "CP001702.fasta        NZAP018286.fasta      SFBF00000000.fasta\r\n",
      "CP001703.fasta        NZAP018287.fasta      SFBG00000000.fasta\r\n",
      "CP001704.fasta        NZAP019314.fasta      SFBH00000000.fasta\r\n",
      "CP001705.fasta        NZAQPY00000000.fasta  SFBI00000000.fasta\r\n",
      "CP001842.fasta        NZASSJ00000000.fasta  SFBJ00000000.fasta\r\n",
      "CP002198.fasta        NZASZQ00000000.fasta  SFBK00000000.fasta\r\n",
      "CP002199.fasta        NZBBPA00000000.fasta  SFBL00000000.fasta\r\n",
      "CP002200.fasta        NZBDQK00000000.fasta  SFBM00000000.fasta\r\n",
      "CP002201.fasta        NZBDQL00000000.fasta  SFBN00000000.fasta\r\n",
      "CP002202.fasta        NZBDSG00000000.fasta  SFBO00000000.fasta\r\n",
      "CP002203.fasta        NZBDSM00000000.fasta  SFBP00000000.fasta\r\n",
      "CP002204.fasta        NZBEIU00000000.fasta  SFBQ00000000.fasta\r\n",
      "CP003646.fasta        NZBEIV00000000.fasta  SFBR00000000.fasta\r\n",
      "CP003647.fasta        NZBEYQ00000000.fasta  SFBS00000000.fasta\r\n",
      "CP003648.fasta        NZBFAC00000000.fasta  SFBT00000000.fasta\r\n",
      "CP003649.fasta        NZBHVO00000000.fasta  SFBU00000000.fasta\r\n",
      "CP003650.fasta        NZBHVP00000000.fasta  SFBV00000000.fasta\r\n",
      "CP003940.fasta        NZBHVQ00000000.fasta  SFBW00000000.fasta\r\n",
      "CP003945.fasta        NZBHVR00000000.fasta  SFBX00000000.fasta\r\n",
      "CP003947.fasta        NZBHVS00000000.fasta  SFBY00000000.fasta\r\n",
      "CP003948.fasta        NZBHVU00000000.fasta  SFBZ00000000.fasta\r\n",
      "CP011304.fasta        NZBIFY00000000.fasta  SFCA00000000.fasta\r\n",
      "CP011339.fasta        NZBJCH00000000.fasta  SRLN00000000.fasta\r\n",
      "CP012375.fasta        NZBJCI00000000.fasta  U94409.fasta\r\n",
      "CP020664.fasta        NZBJCJ00000000.fasta  VTRR00000000.fasta\r\n",
      "CP020771.fasta        NZBJCK00000000.fasta  WMIA00000000.fasta\r\n",
      "CP024912.fasta        NZBJKP00000000.fasta\r\n",
      "CP024913.fasta        NZCAIH00000000.fasta\r\n"
     ]
    }
   ],
   "source": []
  },
  {
   "cell_type": "code",
   "execution_count": null,
   "metadata": {},
   "outputs": [],
   "source": []
  }
 ],
 "metadata": {
  "kernelspec": {
   "display_name": "Python 3",
   "language": "python",
   "name": "python3"
  },
  "language_info": {
   "codemirror_mode": {
    "name": "ipython",
    "version": 3
   },
   "file_extension": ".py",
   "mimetype": "text/x-python",
   "name": "python",
   "nbconvert_exporter": "python",
   "pygments_lexer": "ipython3",
   "version": "3.6.9"
  }
 },
 "nbformat": 4,
 "nbformat_minor": 2
}
